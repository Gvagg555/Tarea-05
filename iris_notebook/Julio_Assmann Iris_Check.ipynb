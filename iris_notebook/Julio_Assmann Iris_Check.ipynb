{
 "cells": [
  {
   "cell_type": "code",
   "execution_count": null,
   "metadata": {},
   "outputs": [],
   "source": [
    "import pandas as pd\n",
    "\n",
    "# Leer el dataset\n",
    "url = \"https://raw.githubusercontent.com/plotly/datasets/master/iris-data.csv\"\n",
    "df = pd.read_csv(url)\n",
    "\n",
    "# Mostrar el tamaño del DataFrame\n",
    "print(\"Tamaño del DataFrame:\", df.shape)\n",
    "\n",
    "# Mostrar las primeras 5 filas del DataFrame\n",
    "print(\"Primeras 5 filas del DataFrame:\")\n",
    "print(df.head())\n"
   ]
  }
 ],
 "metadata": {
  "language_info": {
   "name": "python"
  }
 },
 "nbformat": 4,
 "nbformat_minor": 2
}

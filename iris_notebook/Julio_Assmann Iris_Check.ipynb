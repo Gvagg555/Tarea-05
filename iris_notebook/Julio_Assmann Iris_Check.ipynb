{
 "cells": [
  {
   "cell_type": "code",
   "execution_count": 4,
   "metadata": {},
   "outputs": [
    {
     "name": "stdout",
     "output_type": "stream",
     "text": [
      "Tamaño del DataFrame: (150, 5)\n",
      "Primeras 5 filas del DataFrame:\n",
      "   sepal length  sepal width  petal length  petal width        class\n",
      "0           5.1          3.5           1.4          0.2  Iris-setosa\n",
      "1           4.9          3.0           1.4          0.2  Iris-setosa\n",
      "2           4.7          3.2           1.3          0.2  Iris-setosa\n",
      "3           4.6          3.1           1.5          0.2  Iris-setosa\n",
      "4           5.0          3.6           1.4          0.2  Iris-setosa\n"
     ]
    }
   ],
   "source": [
    "import pandas as pd\n",
    "\n",
    "# Leer el dataset\n",
    "url = \"https://raw.githubusercontent.com/plotly/datasets/master/iris-data.csv\"\n",
    "df = pd.read_csv(url)\n",
    "\n",
    "# Mostrar  tamaño y las primeras 5 filas del DataFrame\n",
    "print(\"Tamaño del DataFrame:\", df.shape)\n",
    "print(\"Primeras 5 filas del DataFrame:\")\n",
    "print(df.head())\n"
   ]
  },
  {
   "cell_type": "code",
   "execution_count": 7,
   "metadata": {},
   "outputs": [
    {
     "name": "stdout",
     "output_type": "stream",
     "text": [
      "Columnas del dataset: ['sepal length', 'sepal width', 'petal length', 'petal width', 'class']\n"
     ]
    }
   ],
   "source": [
    "# Mostrar las columnas del dataset\n",
    "print(\"Columnas del dataset:\", df.columns.tolist())\n"
   ]
  },
  {
   "cell_type": "markdown",
   "metadata": {},
   "source": [
    "### Columnas del Dataset\n",
    "\n",
    "El dataset de Iris tiene las siguientes columnas:\n",
    "\n",
    "- `sepal length (cm)`: Longitud del sépalo en centímetros.\n",
    "- `sepal width (cm)`: Ancho del sépalo en centímetros.\n",
    "- `petal length (cm)`: Longitud del pétalo en centímetros.\n",
    "- `petal width (cm)`: Ancho del pétalo en centímetros.\n",
    "- `class`: Clase de la flor, que puede ser una de tres especies: Iris-setosa, Iris-versicolor, Iris-virginica.\n"
   ]
  }
 ],
 "metadata": {
  "kernelspec": {
   "display_name": "Python 3",
   "language": "python",
   "name": "python3"
  },
  "language_info": {
   "codemirror_mode": {
    "name": "ipython",
    "version": 3
   },
   "file_extension": ".py",
   "mimetype": "text/x-python",
   "name": "python",
   "nbconvert_exporter": "python",
   "pygments_lexer": "ipython3",
   "version": "3.12.4"
  }
 },
 "nbformat": 4,
 "nbformat_minor": 2
}
